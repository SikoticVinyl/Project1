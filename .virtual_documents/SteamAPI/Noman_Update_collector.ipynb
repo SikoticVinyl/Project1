# Import necessary libraries
import os
import requests
import pandas as pd
from dotenv import load_dotenv
from datetime import datetime

# Load environment variables from a .env file
load_dotenv()


# Get the Steam API key from the environment variable
api_key = os.getenv('STEAM_API_KEY')
# Set the base URL for the Steam News API
base_url = "https://api.steampowered.com/ISteamNews/GetNewsForApp/v2/"


# Function to fetch news titles for a given app ID
def fetch_news_titles_for_app(appid, count=600, maxlength=300):
    # Set the parameters for the API request
    params = {
        'appid': appid,
        'count': count,
        'maxlength': maxlength,
        'format': 'json'
    }
    # Make a GET request to the API
    response = requests.get(base_url, params=params)
    # Check if the request was successful
    if response.status_code != 200:
        print(f"Failed to retrieve news for app ID {appid}. Status code: {response.status_code}")
        return []
    # Parse the JSON response
    news_data = response.json()
    # Return the list of news items
    return news_data['appnews']['newsitems']


#appid for No Mans Sky
noman_appid = 275850


# Fetch news titles for No Man's Sky
print(f"Fetching news titles for No Man's Sky...")
news_items = fetch_news_titles_for_app(noman_appid, count=600)  # Increase count to get more data
print(f"Fetched {len(news_items)} news titles for No Man's Sky.")


# Function to display news titles
def display_news_titles(news_items):
    for idx, item in enumerate(news_items):
        title = item['title']
        date = datetime.utcfromtimestamp(item['date']).strftime('%Y-%m-%d %H:%M:%S')
        print(f"{idx + 1}. Title: {title}\n   Date: {date}\n")

# Display all news titles
display_news_titles(news_items)


# Function to filter news items based on keywords
def filter_news_by_keywords(news_items, keywords):
    filtered_news = {keyword: [] for keyword in keywords}
    for item in news_items:
        title = item['title'].lower()
        for keyword in keywords:
            if keyword in title:
                filtered_news[keyword].append(item)
                break
    return filtered_news

# Keywords to filter by
keywords = ['patch', 'update', 'introducing']

# Filter the news items
filtered_news = filter_news_by_keywords(news_items, keywords)

# Display the filtered news items
for keyword in keywords:
    print(f"\nNews items containing '{keyword}':")
    display_news_titles(filtered_news[keyword])


# Function to convert filtered news items to DataFrame
def news_items_to_dataframe(filtered_news):
    data = []
    for keyword, items in filtered_news.items():
        for item in items:
            title = item['title']
            date = datetime.utcfromtimestamp(item['date']).strftime('%Y-%m-%d %H:%M:%S')
            data.append({'Category': keyword, 'Title': title, 'Date': date})
    df = pd.DataFrame(data)
    return df

# Convert filtered news items to DataFrame
filtered_news_df = news_items_to_dataframe(filtered_news)



# Save the DataFrame to a CSV file
filtered_news_df.to_csv('noman_updates_collection.csv', index=False)
print("Data has been saved to noman_updates_collection.csv")



