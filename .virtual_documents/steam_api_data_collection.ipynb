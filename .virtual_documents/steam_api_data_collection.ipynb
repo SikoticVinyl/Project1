# Import necessary libraries
import os
import requests
import pandas as pd
from dotenv import load_dotenv
from datetime import datetime

# Load environment variables from a .env file
load_dotenv()


# Get the Steam API key from the environment variable
api_key = os.getenv('STEAM_API_KEY')
# Set the base URL for the Steam News API
base_url = "https://api.steampowered.com/ISteamNews/GetNewsForApp/v2/"


# Function to fetch news titles for a given app ID
def fetch_news_titles_for_app(appid, count=100, maxlength=300):
    # Set the parameters for the API request
    params = {
        'appid': appid,
        'count': count,
        'maxlength': maxlength,
        'format': 'json'
    }
    # Make a GET request to the API
    response = requests.get(base_url, params=params)
    # Check if the request was successful
    if response.status_code != 200:
        print(f"Failed to retrieve news for app ID {appid}. Status code: {response.status_code}")
        return []
    # Parse the JSON response
    news_data = response.json()
    # Return the list of news items
    return news_data['appnews']['newsitems']


# Our Games appids
# games = {
#     'The Isle': 376210,
#     'ARK: Survival Evolved': 346110,
#     'No Man\'s Sky': 275850
# }

# Define the app ID for The Isle
the_isle_appid = 376210



# Fetch news titles for The Isle
print(f"Fetching news titles for The Isle...")
news_items = fetch_news_titles_for_app(the_isle_appid, count=600)  # Increase count to get more data
print(f"Fetched {len(news_items)} news titles for The Isle.")

# Categorize news items into Updates, Patches, and DevBlogs
updates = [item for item in news_items if 'Update' in item['title']]
patches = [item for item in news_items if 'Patch' in item['title']]
devblogs = [item for item in news_items if 'DevBlog' in item['title']]

print(f"Filtered down to {len(updates)} updates, {len(patches)} patches, and {len(devblogs)} devblogs.")


# Function to display news titles and dates for each category
def display_news_items(items, category):
    """
    This function prints the titles and dates of news items for a given category.
    
    Parameters:
    - items (list): A list of news items.
    - category (str): The category of the news items (e.g., 'Updates', 'Patches', 'DevBlogs').
    """
    print(f"\n{category}:")  # Print the category name
    for idx, item in enumerate(items):
        title = item['title']  # Get the title of the news item
        date = datetime.utcfromtimestamp(item['date']).strftime('%Y-%m-%d %H:%M:%S')  # Convert the timestamp to a readable date
        # Print the index, title, and date of the news item
        print(f"{idx + 1}. Title: {title}\n   Date: {date}\n")

# Display news items for each category: Updates, Patches, and DevBlogs
display_news_items(updates, "Updates")
display_news_items(patches, "Patches")
display_news_items(devblogs, "DevBlogs")


# Function to convert news items to DataFrame
def news_items_to_dataframe(news_items, category):
    """
    This function converts a list of news items to a DataFrame with an additional category column.
    
    Parameters:
    - news_items (list): A list of news items.
    - category (str): The category of the news items (e.g., 'Update', 'Patch', 'DevBlog').
    
    Returns:
    - pd.DataFrame: A DataFrame containing the news items with title, date, and category.
    """
    data = {
        'Title': [item['title'] for item in news_items],
        'Date': [datetime.utcfromtimestamp(item['date']).strftime('%Y-%m-%d %H:%M:%S') for item in news_items],
        'Category': [category] * len(news_items)  # Add a category column
    }
    return pd.DataFrame(data)

# Convert updates, patches, and devblogs to DataFrames
updates_df = news_items_to_dataframe(updates, 'Update')
patches_df = news_items_to_dataframe(patches, 'Patch')
devblogs_df = news_items_to_dataframe(devblogs, 'DevBlog')

# Concatenate all DataFrames into one
all_news_df = pd.concat([updates_df, patches_df, devblogs_df])

# Save the combined DataFrame to a single CSV file
all_news_df.to_csv('the_isle_all_news.csv', index=False)

print("Data saved to 'the_isle_all_news.csv'")



