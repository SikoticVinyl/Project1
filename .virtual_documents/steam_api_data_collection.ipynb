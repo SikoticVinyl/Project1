import os
import requests
import pandas as pd
from dotenv import load_dotenv
from datetime import datetime

# Loading environment variables from .env file
load_dotenv()


# Getting the Steam API key from the environment variable
api_key = os.getenv('STEAM_API_KEY')
base_url = "https://api.steampowered.com/ISteamNews/GetNewsForApp/v2/"



# Function to fetch news titles for a given app ID
def fetch_news_titles_for_app(appid, count=100, maxlength=300):
    params = {
        'appid': appid,
        'count': count,
        'maxlength': maxlength,
        'format': 'json'
    }
    response = requests.get(base_url, params=params)
    if response.status_code != 200:
        print(f"Failed to retrieve news for app ID {appid}. Status code: {response.status_code}")
        return []
    news_data = response.json()
    return news_data['appnews']['newsitems']



# Our Games appids
# games = {
#     'The Isle': 376210,
#     'ARK: Survival Evolved': 346110,
#     'No Man\'s Sky': 275850
# }

# Define the app ID for The Isle
the_isle_appid = 376210



# Fetch news titles for The Isle
print(f"Fetching news titles for The Isle...")
news_items = fetch_news_titles_for_app(the_isle_appid, count=600)
print(f"Fetched {len(news_items)} news titles for The Isle.")

# Categorize news items into Updates, Patches, and DevBlogs
updates = [item for item in news_items if 'Update' in item['title']]
patches = [item for item in news_items if 'Patch' in item['title']]
devblogs = [item for item in news_items if 'DevBlog' in item['title']]

print(f"Filtered down to {len(updates)} updates, {len(patches)} patches, and {len(devblogs)} devblogs.")


# Display the news titles and dates for each category to inspect the data
def display_news_items(items, category):
    print(f"\n{category}:")
    for idx, item in enumerate(items):
        title = item['title']
        date = datetime.utcfromtimestamp(item['date']).strftime('%Y-%m-%d %H:%M:%S')
        print(f"{idx + 1}. Title: {title}\n   Date: {date}\n")

display_news_items(updates, "Updates")
display_news_items(patches, "Patches")
display_news_items(devblogs, "DevBlogs")


# Sort the news items by date to get the most recent one
news_items.sort(key=lambda x: x['date'], reverse=True)

# Display all information about the most recent update
most_recent_update = news_items[0]

print("Most Recent Update:")
for key, value in most_recent_update.items():
    if key == 'date':
        value = datetime.utcfromtimestamp(value).strftime('%Y-%m-%d %H:%M:%S')
    print(f"{key}: {value}")



