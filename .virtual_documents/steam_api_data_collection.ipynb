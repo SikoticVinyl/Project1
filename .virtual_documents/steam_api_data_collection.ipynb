import os
import requests
import pandas as pd
from dotenv import load_dotenv

# Loading environment variables from .env file
load_dotenv()


# Getting the Steam API key from the environment variable
api_key = os.getenv('STEAM_API_KEY')
base_url = "https://api.steampowered.com/ISteamNews/GetNewsForApp/v2/"



# Function to fetch news for a given app ID
def fetch_news_for_app(appid, count=10, maxlength=300):
    params = {
        'appid': appid,
        'count': count,
        'maxlength': maxlength,
        'format': 'json'
    }
    response = requests.get(base_url, params=params)
    if response.status_code != 200:
        print(f"Failed to retrieve news for app ID {appid}. Status code: {response.status_code}")
        return []
    news_data = response.json()
    return news_data['appnews']['newsitems']



# Define the app IDs for the games you are interested in
games = {
    'The Isle': 376210,
    'ARK: Survival Evolved': 346110,
    'No Man\'s Sky': 275850
}


# Fetch news for each game and store in a dictionary
all_news = {}

for game, appid in games.items():
    print(f"Fetching news for {game}...")
    news_items = fetch_news_for_app(appid)
    all_news[game] = news_items
    print(f"Fetched {len(news_items)} news items for {game}.")

    # Print a sample of the news items for verification
    for item in news_items[:3]:  # Adjust the slice to see more or fewer items
        print(f"Title: {item['title']}\nDate: {item['date']}\nURL: {item['url']}\nContents: {item['contents']}\n")




