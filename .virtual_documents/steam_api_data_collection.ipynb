import os
import requests
import pandas as pd
from dotenv import load_dotenv
from datetime import datetime

# Loading environment variables from .env file
load_dotenv()


# Getting the Steam API key from the environment variable
api_key = os.getenv('STEAM_API_KEY')
base_url = "https://api.steampowered.com/ISteamNews/GetNewsForApp/v2/"



# Function to fetch news titles for a given app ID
def fetch_news_titles_for_app(appid, count=100, maxlength=300):
    params = {
        'appid': appid,
        'count': count,
        'maxlength': maxlength,
        'format': 'json'
    }
    response = requests.get(base_url, params=params)
    if response.status_code != 200:
        print(f"Failed to retrieve news for app ID {appid}. Status code: {response.status_code}")
        return []
    news_data = response.json()
    return news_data['appnews']['newsitems']


# Our Games appids
# games = {
#     'The Isle': 376210,
#     'ARK: Survival Evolved': 346110,
#     'No Man\'s Sky': 275850
# }

# Define the app ID for The Isle
the_isle_appid = 376210



# Fetch news titles for The Isle
print(f"Fetching news titles for The Isle...")
news_titles = fetch_news_titles_for_app(the_isle_appid)
print(f"Fetched {len(news_titles)} news titles for The Isle.")



# Display the news titles to inspect the data
for idx, title in enumerate(news_titles):
    title = item['title']
    date = datetime.utcfromtimestamp(item['date']).strftime('%Y-%m-%d %H:%M:%S')
    print(f"{idx + 1}. Title: {title}\n   Date: {date}\n")




