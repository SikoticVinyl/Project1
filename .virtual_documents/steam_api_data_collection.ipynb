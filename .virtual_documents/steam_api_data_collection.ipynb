import os
import requests
import pandas as pd
from dotenv import load_dotenv

# Loading environment variables from .env file
load_dotenv()


# Getting the Steam API key from the environment variable
api_key = os.getenv('STEAM_API_KEY')
base_url = 'https://api.steampowered.com/ISteamUserStats/GetNumberOfCurrentPlayers/v1/'



def get_player_count(appid):
    # Define the parameters for the API request, including the appid and the API key
    params = {
        'appid': appid,
        'key': api_key
    }
    
    # Send a GET request to the Steam API with the specified parameters
    response = requests.get(base_url, params=params)
    
    # Parse the JSON response from the API
    data = response.json()
    
    # Check if the response contains the 'player_count' key within the 'response' key
    if 'response' in data and 'player_count' in data['response']:
        # If 'player_count' exists, return its value
        return data['response']['player_count']
    else:
        # If 'player_count' does not exist, return None
        return None



# Define the app IDs for the games you are interested in
games = {
    'The Isle': 376210,
    'ARK: Survival Evolved': 346110,
    'No Man\'s Sky': 275850
}

# Fetch player counts
player_counts = {}
for game, appid in games.items():
    player_counts[game] = get_player_count(appid)

# Display the player counts
player_counts


def get_global_stats_for_game(appid, stat_name, startdate, enddate):
    url = 'https://api.steampowered.com/ISteamUserStats/GetGlobalStatsForGame/v1/'
    params = {
        'appid': appid,
        'count': 1,
        'name[0]': stat_name,
        'startdate': startdate,
        'enddate': enddate,
        'key': api_key
    }
    response = requests.get(url, params=params)
    data = response.json()
    
    print(f"Response for appid {appid}: {data}")  # Print the response for debugging
    
    if 'response' in data and 'result' in data['response']:
        return data['response']['result']
    else:
        return None


# Define the stat name and date range for the global stats
stat_name = 'player_count'  # Adjust the stat name if needed
startdate = int((pd.Timestamp.now() - pd.Timedelta(days=30)).timestamp())  # Example: last 30 days
enddate = int(pd.Timestamp.now().timestamp())

# Fetch global stats for each game
global_stats = {}
for game, appid in games.items():
    stats = get_global_stats_for_game(appid, stat_name, startdate, enddate)
    global_stats[game] = stats

# Display the global stats for each game
for game, stats in global_stats.items():
    print(f"{game}: {stats}")


#Not getting stats we want, going to see what stats we can pull from the API
def get_available_stats(appid):
    url = 'https://api.steampowered.com/ISteamUserStats/GetGlobalAchievementPercentagesForApp/v2/'
    params = {
        'gameid': appid,
        'key': api_key
    }
    response = requests.get(url, params=params)
    data = response.json()
    
    print(f"Available stats for appid {appid}: {data}")  # Print the response for debugging
    
    return data


# Fetch available stats for each game
for game, appid in games.items():
    available_stats = get_available_stats(appid)
    print(f"Available stats for {game}: {available_stats}")

#still not the information we want for t



