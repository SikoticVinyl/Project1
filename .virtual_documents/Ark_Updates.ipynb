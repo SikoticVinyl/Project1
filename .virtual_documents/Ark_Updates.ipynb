import pandas as pd
import matplotlib.pyplot as plt
import seaborn as sns
from datetime import datetime
# Load the update data
ark_update_data = pd.read_csv('data/ark/ark_updates_collection.csv')

# Display the first few rows of the data
print(ark_update_data.head())


# Convert the 'Date' column to datetime
ark_update_data['Date'] = pd.to_datetime(ark_update_data['Date'], format='%Y-%m-%d')

# Extract major and minor version numbers
ark_update_data['Major_Version'] = ark_update_data['Version'].str.extract('v(\d+)').astype(float)
ark_update_data['Minor_Version'] = ark_update_data['Version'].str.extract('v\d+\.(\d+)').astype(float)

# Fill NaN values in Minor_Version with 0
ark_update_data['Minor_Version'] = ark_update_data['Minor_Version'].fillna(0)

# Create a combined version number
ark_update_data['Combined_Version'] = ark_update_data['Major_Version'] + ark_update_data['Minor_Version'] / 100

# Sort the dataframe by date
ark_update_data = ark_update_data.sort_values('Date')

# Reset the index
ark_update_data = ark_update_data.reset_index(drop=True)

print(ark_update_data.head())


# Group by major version and aggregate data
ark_grouped_df = ark_update_data.groupby('Major_Version').agg({
    'Date': ['min', 'max'],
    'Minor_Version': 'count',
    'Num_Changes': 'sum'
}).reset_index()

# Rename columns
ark_grouped_df.columns = ['Major_Version', 'Start_Date', 'End_Date', 'Minor_Versions', 'Total_Changes']

print(ark_grouped_df)






