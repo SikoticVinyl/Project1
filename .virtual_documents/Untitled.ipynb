import pandas as pd

# Load the update data
ark_update_data = pd.read_csv('data/ark/ark_updates_collection.csv')

# Display the first few rows of the data
print(ark_update_data.head())



# Extract the major and minor version numbers
ark_update_data['MajorVersion'] = ark_update_data['Version'].str.extract(r'v(\d+)\.')[0].astype(int)
ark_update_data['MinorVersion'] = ark_update_data['Version'].str.extract(r'v\d+\.(\d+)')[0].astype(int)
#Display Updates
print(ark_update_data.head())


# Convert 'Date' to datetime format
ark_update_data['Date'] = pd.to_datetime(ark_update_data['Date'], errors='coerce')

# Filter out rows where 'Date' is NaT (Not a Time)
ark_update_data = ark_update_data.dropna(subset=['Date'])

# Ensuring 'Changes' column is of string type and fill NaNs with an empty string
ark_update_data['Changes'] = ark_update_data['Changes'].astype(str).fillna('')



# Group by major version
ark_grouped_updates = ark_update_data.groupby('MajorVersion').agg({
    'Date': ['min', 'max'],          # Determine the date range
    'Version': 'count',              # Count the number of updates
    'Num_Changes': 'sum',            # Sum the number of changes
    'Changes': lambda x: ' '.join(x) # Concatenate changes descriptions
}).reset_index()

# Flatten the MultiIndex columns
ark_grouped_updates.columns = ['MajorVersion', 'StartDate', 'EndDate', 'UpdateCount', 'TotalChanges', 'CombinedDescriptions']

# Display the grouped data
print(ark_grouped_updates.head())
print(ark_grouped_updates.tail())



import matplotlib.pyplot as plt

# Plot the major and minor updates over time
plt.figure(figsize=(14, 8))

# Create a scatter plot for each major version
for major_version in ark_update_data['MajorVersion'].unique():
    subset_major = ark_update_data[ark_update_data['MajorVersion'] == major_version]
    plt.scatter(subset_major['Date'], subset_major['MajorVersion'], label=f'Major v{major_version}', alpha=0.8, edgecolors='w', s=100, marker='o')

# Create a scatter plot for each minor version (use smaller markers)
plt.scatter(ark_update_data['Date'], ark_update_data['MajorVersion'] + ark_update_data['MinorVersion']*0.01, alpha=0.6, edgecolors='w', s=50, marker='x', color='red', label='Minor Versions')

# Formatting the plot
plt.xlabel('Date')
plt.ylabel('Version')
plt.title('Major and Minor Updates Over Time')
plt.legend(title='Version Type', loc='upper left')
plt.grid(True, linestyle='--', alpha=0.7)
plt.tight_layout()

# Show the plot
plt.show()




