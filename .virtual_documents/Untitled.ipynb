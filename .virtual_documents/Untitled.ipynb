import os
import requests
import pandas as pd
from dotenv import load_dotenv


# Get the Steam API key from the environment variable
api_key = os.getenv('STEAM_API_KEY')
base_url = 'https://api.steampowered.com/ISteamUserStats/GetNumberOfCurrentPlayers/v1/'













