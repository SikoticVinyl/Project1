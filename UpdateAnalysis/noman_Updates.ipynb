{
 "cells": [
  {
   "cell_type": "markdown",
   "id": "fc813c17-ec3c-4ae5-82e0-6719be4adbb9",
   "metadata": {},
   "source": [
    "# No Man's Sky Updates Analysis\n",
    "\n",
    "## Table of Contents\n",
    "1. [Introduction](#Introduction)\n",
    "2. [Data Description](#Data-Description)\n",
    "\n",
    "## Introduction\n",
    "The purpose of this analysis is to:\n",
    "- Examine the frequency and patterns of updates for No Man's Sky.\n",
    "- Provide insights into the development cycle.\n",
    "- Help predict future updates.\n",
    "- Identify periods of high and low activity for planning game events or releases.\n",
    "\n",
    "## Data Description\n",
    "The dataset includes:\n",
    "- Dates and descriptions of each update.\n",
    "- Data collected from official No Man's Sky update logs."
   ]
  },
  {
   "cell_type": "code",
   "execution_count": 2,
   "id": "1c1ddb61-710f-4bad-8c5a-73c5e4d5bec0",
   "metadata": {},
   "outputs": [
    {
     "name": "stdout",
     "output_type": "stream",
     "text": [
      "  Category                                              Title  \\\n",
      "0    patch                 No Man's Sky Companions Patch 3.21   \n",
      "1    patch  No Man's Sky Update 3.2 patch notes bring adop...   \n",
      "2    patch                               Crossplay Patch 2.52   \n",
      "3    patch                                Exo Mech Patch 2.42   \n",
      "4    patch  No Man's Sky Beyond patch notes: VR, Multiplay...   \n",
      "\n",
      "                  Date  \n",
      "0  2021-02-19 14:45:50  \n",
      "1  2021-02-17 07:40:00  \n",
      "2  2020-06-12 16:25:20  \n",
      "3  2020-04-16 13:50:00  \n",
      "4  2019-08-15 15:57:34  \n"
     ]
    }
   ],
   "source": [
    "import pandas as pd\n",
    "import matplotlib.pyplot as plt\n",
    "import seaborn as sns\n",
    "from datetime import datetime, timedelta\n",
    "import numpy as np\n",
    "\n",
    "# Load the update data for No Man's Sky\n",
    "noman_update_data = pd.read_csv('../data/Noman/noman_updates_collection.csv')\n",
    "\n",
    "# Display the first few rows of the data\n",
    "print(noman_update_data.head())"
   ]
  },
  {
   "cell_type": "code",
   "execution_count": 7,
   "id": "a94633ef-453b-4c89-a545-585b6cd301ab",
   "metadata": {},
   "outputs": [
    {
     "name": "stdout",
     "output_type": "stream",
     "text": [
      "  Category             Title                Date Version  Major_Version  \\\n",
      "0    patch  Patch Notes 1.07 2016-09-02 17:25:14    1.07            1.0   \n",
      "1    patch  Patch Notes 1.07 2016-09-02 17:25:14    1.07            1.0   \n",
      "2    patch        Patch 1.12 2016-12-07 10:54:35    1.12            1.0   \n",
      "3    patch        Patch 1.12 2016-12-07 10:54:35    1.12            1.0   \n",
      "4    patch        Patch 1.13 2016-12-12 12:00:10    1.13            1.0   \n",
      "\n",
      "   Minor_Version  Combined_Version  \n",
      "0            7.0              1.07  \n",
      "1            7.0              1.07  \n",
      "2           12.0              1.12  \n",
      "3           12.0              1.12  \n",
      "4           13.0              1.13  \n",
      "   Category                                              Title  \\\n",
      "47   update  No Man's Sky focuses on customising and access...   \n",
      "48   update  No Man's Sky update 4.0, Waypoint, caps off th...   \n",
      "49   update  No Man's Sky' 4.1 Fractal Update adds an Exped...   \n",
      "50   update  No Man's Sky goes 5.0 with a sweeping tech upd...   \n",
      "51   update         Introducing Worlds Part I - the 5.0 update   \n",
      "\n",
      "                  Date Version  Major_Version  Minor_Version  Combined_Version  \n",
      "47 2022-10-07 14:40:41     4.0            4.0            0.0              4.00  \n",
      "48 2022-10-07 15:00:20     4.0            4.0            0.0              4.00  \n",
      "49 2023-02-22 17:02:40     4.1            4.0            1.0              4.01  \n",
      "50 2024-07-17 13:00:00     5.0            5.0            0.0              5.00  \n",
      "51 2024-07-17 13:22:39     5.0            5.0            0.0              5.00  \n"
     ]
    }
   ],
   "source": [
    "import re\n",
    "\n",
    "# Convert the 'Date' column to datetime\n",
    "noman_update_data['Date'] = pd.to_datetime(noman_update_data['Date'])\n",
    "\n",
    "# Define a function to extract version numbers\n",
    "def extract_version(title):\n",
    "    match = re.search(r'(\\d+\\.\\d+)', title)\n",
    "    if match:\n",
    "        return match.group(0)\n",
    "    return None\n",
    "\n",
    "# Apply the function to extract versions\n",
    "noman_update_data['Version'] = noman_update_data['Title'].apply(extract_version)\n",
    "\n",
    "# Drop rows with no version information\n",
    "noman_update_data = noman_update_data.dropna(subset=['Version']).copy()\n",
    "\n",
    "# Extract major and minor version numbers\n",
    "noman_update_data.loc[:, 'Major_Version'] = noman_update_data['Version'].str.split('.').str[0].astype(float)\n",
    "noman_update_data.loc[:, 'Minor_Version'] = noman_update_data['Version'].str.split('.').str[1].astype(float)\n",
    "\n",
    "# Create a combined version number\n",
    "noman_update_data.loc[:, 'Combined_Version'] = noman_update_data['Major_Version'] + noman_update_data['Minor_Version'] / 100\n",
    "\n",
    "# Sort the dataframe by date\n",
    "noman_update_data = noman_update_data.sort_values('Date')\n",
    "\n",
    "# Reset the index\n",
    "noman_update_data = noman_update_data.reset_index(drop=True)\n",
    "\n",
    "print(noman_update_data.head())\n",
    "print(noman_update_data.tail())"
   ]
  },
  {
   "cell_type": "code",
   "execution_count": null,
   "id": "e3e47b9d-8215-449c-a0fc-26f563ad969f",
   "metadata": {},
   "outputs": [],
   "source": []
  }
 ],
 "metadata": {
  "kernelspec": {
   "display_name": "Python 3 (ipykernel)",
   "language": "python",
   "name": "python3"
  },
  "language_info": {
   "codemirror_mode": {
    "name": "ipython",
    "version": 3
   },
   "file_extension": ".py",
   "mimetype": "text/x-python",
   "name": "python",
   "nbconvert_exporter": "python",
   "pygments_lexer": "ipython3",
   "version": "3.10.14"
  }
 },
 "nbformat": 4,
 "nbformat_minor": 5
}
