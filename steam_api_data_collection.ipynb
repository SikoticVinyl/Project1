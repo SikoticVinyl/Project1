{
 "cells": [
  {
   "cell_type": "code",
   "execution_count": 1,
   "id": "9f8a940a-ff6c-4f00-9caa-7e780844fde9",
   "metadata": {},
   "outputs": [
    {
     "data": {
      "text/plain": [
       "True"
      ]
     },
     "execution_count": 1,
     "metadata": {},
     "output_type": "execute_result"
    }
   ],
   "source": [
    "import os\n",
    "import requests\n",
    "import pandas as pd\n",
    "from dotenv import load_dotenv\n",
    "\n",
    "# Loading environment variables from .env file\n",
    "load_dotenv()"
   ]
  },
  {
   "cell_type": "code",
   "execution_count": 2,
   "id": "fc658714-b3cc-4075-9532-789c3daa3dd0",
   "metadata": {},
   "outputs": [],
   "source": [
    "# Getting the Steam API key from the environment variable\n",
    "api_key = os.getenv('STEAM_API_KEY')\n",
    "base_url = 'https://api.steampowered.com/ISteamUserStats/GetNumberOfCurrentPlayers/v1/'\n"
   ]
  },
  {
   "cell_type": "code",
   "execution_count": 3,
   "id": "5c982762-22e6-40e5-980e-fb2d7153610a",
   "metadata": {},
   "outputs": [],
   "source": [
    "def get_player_count(appid):\n",
    "    # Define the parameters for the API request, including the appid and the API key\n",
    "    params = {\n",
    "        'appid': appid,\n",
    "        'key': api_key\n",
    "    }\n",
    "    \n",
    "    # Send a GET request to the Steam API with the specified parameters\n",
    "    response = requests.get(base_url, params=params)\n",
    "    \n",
    "    # Parse the JSON response from the API\n",
    "    data = response.json()\n",
    "    \n",
    "    # Check if the response contains the 'player_count' key within the 'response' key\n",
    "    if 'response' in data and 'player_count' in data['response']:\n",
    "        # If 'player_count' exists, return its value\n",
    "        return data['response']['player_count']\n",
    "    else:\n",
    "        # If 'player_count' does not exist, return None\n",
    "        return None\n"
   ]
  },
  {
   "cell_type": "code",
   "execution_count": 4,
   "id": "bdeeffab-5298-48f5-baa9-201782aff814",
   "metadata": {},
   "outputs": [
    {
     "data": {
      "text/plain": [
       "{'The Isle': 3234, 'ARK: Survival Evolved': 19090, \"No Man's Sky\": 27509}"
      ]
     },
     "execution_count": 4,
     "metadata": {},
     "output_type": "execute_result"
    }
   ],
   "source": [
    "# Define the app IDs for the games you are interested in\n",
    "games = {\n",
    "    'The Isle': 376210,\n",
    "    'ARK: Survival Evolved': 346110,\n",
    "    'No Man\\'s Sky': 275850\n",
    "}\n",
    "\n",
    "# Fetch player counts\n",
    "player_counts = {}\n",
    "for game, appid in games.items():\n",
    "    player_counts[game] = get_player_count(appid)\n",
    "\n",
    "# Display the player counts\n",
    "player_counts"
   ]
  },
  {
   "cell_type": "code",
   "execution_count": 7,
   "id": "0b46deab-e5b5-4c0f-9390-b61d78b8a10e",
   "metadata": {},
   "outputs": [],
   "source": [
    "def get_global_stats_for_game(appid, stat_name, startdate, enddate):\n",
    "    url = 'https://api.steampowered.com/ISteamUserStats/GetGlobalStatsForGame/v1/'\n",
    "    params = {\n",
    "        'appid': appid,\n",
    "        'count': 1,\n",
    "        'name[0]': stat_name,\n",
    "        'startdate': startdate,\n",
    "        'enddate': enddate,\n",
    "        'key': api_key\n",
    "    }\n",
    "    response = requests.get(url, params=params)\n",
    "    data = response.json()\n",
    "    \n",
    "    print(f\"Response for appid {appid}: {data}\")  # Print the response for debugging\n",
    "    \n",
    "    if 'response' in data and 'result' in data['response']:\n",
    "        return data['response']['result']\n",
    "    else:\n",
    "        return None"
   ]
  },
  {
   "cell_type": "code",
   "execution_count": 8,
   "id": "d816f7db-76ee-4db6-a2fd-0c1e07c0a5fb",
   "metadata": {},
   "outputs": [
    {
     "name": "stdout",
     "output_type": "stream",
     "text": [
      "Response for appid 376210: {'response': {'result': 8, 'error': \"Stat 'player_count' not found\"}}\n",
      "Response for appid 346110: {'response': {'result': 8, 'error': \"Stat 'player_count' not found\"}}\n",
      "Response for appid 275850: {'response': {'result': 8, 'error': \"Stat 'player_count' not found\"}}\n",
      "The Isle: 8\n",
      "ARK: Survival Evolved: 8\n",
      "No Man's Sky: 8\n"
     ]
    }
   ],
   "source": [
    "# Define the stat name and date range for the global stats\n",
    "stat_name = 'player_count'  # Adjust the stat name if needed\n",
    "startdate = int((pd.Timestamp.now() - pd.Timedelta(days=30)).timestamp())  # Example: last 30 days\n",
    "enddate = int(pd.Timestamp.now().timestamp())\n",
    "\n",
    "# Fetch global stats for each game\n",
    "global_stats = {}\n",
    "for game, appid in games.items():\n",
    "    stats = get_global_stats_for_game(appid, stat_name, startdate, enddate)\n",
    "    global_stats[game] = stats\n",
    "\n",
    "# Display the global stats for each game\n",
    "for game, stats in global_stats.items():\n",
    "    print(f\"{game}: {stats}\")"
   ]
  },
  {
   "cell_type": "code",
   "execution_count": null,
   "id": "8fd2d5ed-1dab-40b2-b298-4e44f3d8710b",
   "metadata": {},
   "outputs": [],
   "source": []
  }
 ],
 "metadata": {
  "kernelspec": {
   "display_name": "Python 3 (ipykernel)",
   "language": "python",
   "name": "python3"
  },
  "language_info": {
   "codemirror_mode": {
    "name": "ipython",
    "version": 3
   },
   "file_extension": ".py",
   "mimetype": "text/x-python",
   "name": "python",
   "nbconvert_exporter": "python",
   "pygments_lexer": "ipython3",
   "version": "3.10.14"
  }
 },
 "nbformat": 4,
 "nbformat_minor": 5
}
