{
 "cells": [
  {
   "cell_type": "code",
   "execution_count": 1,
   "id": "9f8a940a-ff6c-4f00-9caa-7e780844fde9",
   "metadata": {},
   "outputs": [
    {
     "data": {
      "text/plain": [
       "True"
      ]
     },
     "execution_count": 1,
     "metadata": {},
     "output_type": "execute_result"
    }
   ],
   "source": [
    "import os\n",
    "import requests\n",
    "import pandas as pd\n",
    "from dotenv import load_dotenv\n",
    "\n",
    "# Loading environment variables from .env file\n",
    "load_dotenv()"
   ]
  },
  {
   "cell_type": "code",
   "execution_count": 2,
   "id": "fc658714-b3cc-4075-9532-789c3daa3dd0",
   "metadata": {},
   "outputs": [],
   "source": [
    "# Getting the Steam API key from the environment variable\n",
    "api_key = os.getenv('STEAM_API_KEY')\n",
    "base_url = \"https://api.steampowered.com/ISteamNews/GetNewsForApp/v2/\"\n"
   ]
  },
  {
   "cell_type": "code",
   "execution_count": 3,
   "id": "5c982762-22e6-40e5-980e-fb2d7153610a",
   "metadata": {},
   "outputs": [],
   "source": [
    "# Function to fetch news for a given app ID\n",
    "def fetch_news_for_app(appid, count=10, maxlength=300):\n",
    "    params = {\n",
    "        'appid': appid,\n",
    "        'count': count,\n",
    "        'maxlength': maxlength,\n",
    "        'format': 'json'\n",
    "    }\n",
    "    response = requests.get(base_url, params=params)\n",
    "    if response.status_code != 200:\n",
    "        print(f\"Failed to retrieve news for app ID {appid}. Status code: {response.status_code}\")\n",
    "        return []\n",
    "    news_data = response.json()\n",
    "    return news_data['appnews']['newsitems']\n"
   ]
  },
  {
   "cell_type": "code",
   "execution_count": 4,
   "id": "bdeeffab-5298-48f5-baa9-201782aff814",
   "metadata": {},
   "outputs": [],
   "source": [
    "# Define the app IDs for the games you are interested in\n",
    "games = {\n",
    "    'The Isle': 376210,\n",
    "    'ARK: Survival Evolved': 346110,\n",
    "    'No Man\\'s Sky': 275850\n",
    "}"
   ]
  },
  {
   "cell_type": "code",
   "execution_count": 6,
   "id": "0b46deab-e5b5-4c0f-9390-b61d78b8a10e",
   "metadata": {},
   "outputs": [
    {
     "name": "stdout",
     "output_type": "stream",
     "text": [
      "Fetching news for The Isle...\n",
      "Fetched 10 news items for The Isle.\n",
      "Title: DevBlog #49\n",
      "Date: 1719623867\n",
      "URL: https://steamstore-a.akamaihd.net/news/externalpost/steam_community_announcements/5842939267315030015\n",
      "Contents: Filipe - Lead Programmer This month I focused on finishing the grapple mechanic since it will be used as a basis for other upcoming dinosaurs with their own specific variations. Outside of regular bugs, the Hordetest allowed a more “natural” environment to begin balance testing for grapple. Right no...\n",
      "\n",
      "Title: DevBlog #48\n",
      "Date: 1717205789\n",
      "URL: https://steamstore-a.akamaihd.net/news/externalpost/steam_community_announcements/5742731639335599929\n",
      "Contents: Filipe - Lead Programmer This month I focused on refining the Rex’s crush ability and the new throw it has, which is linked to crush but not exclusive to it. The grapple ability is still receiving some updates, which now is mainly for balance as the grapple values need to align with the entire roste...\n",
      "\n",
      "Title: Patch 0.14.28.61 now available!\n",
      "Date: 1714714891\n",
      "URL: https://steamstore-a.akamaihd.net/news/externalpost/steam_community_announcements/5766372999946110312\n",
      "Contents: Hey Islanders, Thank you to everyone who participated in our recent hordetest, we're now pushing our latest build to the Evrima Public Branch! As mentioned in an earlier Discord announcement, for this patch, we'll be experimenting with a new server variant based on feedback gathered from our recent ...\n",
      "\n",
      "Fetching news for ARK: Survival Evolved...\n",
      "Fetched 10 news items for ARK: Survival Evolved.\n",
      "Title: Ark: The Animated Series drops a surprise release, with Michelle Yeoh and Russell Crowe along for dino fun\n",
      "Date: 1711396297\n",
      "URL: https://steamstore-a.akamaihd.net/news/externalpost/Rock, Paper, Shotgun/5686430301733565017\n",
      "Contents: Remember when <a href=\"https://www.rockpapershotgun.com/games/ark-survival-evolved\">Ark: Survival Evolved</a> was announced to be getting an animated series with a star-studded cast including the likes of Michelle Yeoh, Russell Crowe, Elliot Page, David Tennant and Malcolm-bloody-McDowell? I sure didn’t! <a href=\"https://www.rockpapershotgun.com/ark-2-stars-vin-diesel\">That was over three years ago</a> during the heights of a worldwide pand...\n",
      "\n",
      "Title: ARK: The Animated Series released with Free In-Game Cosmetics\n",
      "Date: 1711245948\n",
      "URL: https://steamstore-a.akamaihd.net/news/externalpost/steam_community_announcements/5686430301727214589\n",
      "Contents: ARK: The Animated Series has arrived on Paramount+! When 21st century paleontologist Helena Walker (Madeleine Madden) finds herself resurrected on a mysterious primeval island populated by prehistoric beasts, she must learn to survive with new allies from throughout time, while trying to uncover the...\n",
      "\n",
      "Title: ARK: The Animated Series is apparently a thing and has just surprised-dropped six episodes onto Paramount Plus\n",
      "Date: 1711030766\n",
      "URL: https://steamstore-a.akamaihd.net/news/externalpost/VG247/5686430301718142917\n",
      "Contents: An animated series for Paramount+ based on ARK: Survival Evolved (<a href=\"https://www.vg247.com/ark-survival-ascended-sees-another-delay-on-xbox-series-xs\" target=\"_blank\">now Ascended</a>) ahead of the launch of <a href=\"https://www.vg247.com/ark-2-delayed-to-2024-for-the-betterment-of-the-final-product-and-the-teams-well-being\" target=\"_blank\">ARK 2</a> was <a href=\"https://www.vg247.com/ark-the-animated-series\">announced in 2020</a>, but we don't blame you if you'd forgotten, as that pterosaur flew under most folks' radars. Now, the streaming service has surprise-dropped six episodes of it in the US...\n",
      "\n",
      "Fetching news for No Man's Sky...\n",
      "Fetched 10 news items for No Man's Sky.\n",
      "Title: Steam Global Top Sellers for week of 16 Jul — 23 July 2024\n",
      "Date: 1721725200\n",
      "URL: https://steamstore-a.akamaihd.net/news/externalpost/SteamDB/5963413094342354349\n",
      "Contents: <a href=\"https://steamdb.info/topsellers/2024W30/?utm_source=Steam&utm_medium=Steam&utm_campaign=SteamRSS\"> </a> * <a href=\"https://steamdb.info/app/1675200/charts/?utm_source=Steam&utm_medium=Steam&utm_campaign=SteamRSS\">Steam Deck</a>; * <a href=\"https://steamdb.info/app/1245620/charts/?utm_source=Steam&utm_medium=Steam&utm_campaign=SteamRSS\">ELDEN RING</a>; * <a href=\"https://steamdb.info/app/381210/charts/?utm_source=Steam&utm_medium=Steam&utm_campaign=SteamRSS\">Dead by Daylight</a>; * <a href=\"https://steamdb.info/app/275850/charts/?utm_source=Steam&utm_medium=Steam&utm_campaign=SteamRSS\">No Man's Sky</a>; * <a href=\"https://steamdb.info/app/252490/charts/?utm_source=Steam&utm_medium=Steam&utm_campaign=SteamRSS\">Rust</a>; * <a href=\"https://steamdb.info/app/1174180/charts/?utm_source=Steam&utm_medium=Steam&utm_campaign=SteamRSS\">Red Dead Redemption 2</a>; * <a href=\"https://steamdb.info/app/2778580/charts/?utm_source=Steam&utm_medium=Steam&utm_campaign=SteamRSS\">ELDEN RING Shadow of the Erdtree</a>; * <a href=\"https://steamdb.info/app/1857090/charts/?utm_source=Steam&utm_medium=Steam&utm_campaign=SteamRSS\">Norland</a>; * <a href=\"https://steamdb.info/app/2358720/charts/?utm_source=Steam&utm_medium=Steam&utm_campaign=SteamRSS\">Black Myth: Wukong</a>; * <a href=\"https://steamdb.info/app/271590/charts/?utm_source=Steam&utm_medium=Steam&utm_campaign=SteamRSS\">Grand Theft Auto V</a>; <i>* excluding free to play games</i> <a href=\"https://steamdb.info/topsellers/2024W30/?utm_source=Steam&utm_medium=Steam&utm_campaign=SteamRSS\">View top 100 on SteamDB</a>\n",
      "\n",
      "Title: No Man's Sky soars again as new update prompts biggest discount yet\n",
      "Date: 1721309478\n",
      "URL: https://steamstore-a.akamaihd.net/news/externalpost/PCGamesN/5969041959964938957\n",
      "Contents: The grand redemption of <strong>No Man's Sky</strong> remains one of those moments I'll always cherish. From a promising reveal to widespread launch disappointment, Hello Games continued to improve and polish its creation over the years, slowly winning back more and more fans. At this point, it comfortably sits amon...\n",
      "\n",
      "Title: Для No Man's Sky выпустили большое бесплатное обновление — оно делает мир живее и уникальнее\n",
      "Date: 1721258100\n",
      "URL: https://steamstore-a.akamaihd.net/news/externalpost/Gamemag.ru/5969041959963013112\n",
      "Contents: Студия <strong>Hello Games</strong> не перестает радовать фанатов <strong>No Man's Sky</strong> новым контентом. Для игры представили большое обновление <strong>Worlds</strong>, которое смогут загрузить все желающие. Подробнее о нем рассказали в отдельном трейлере. \n",
      "\n"
     ]
    }
   ],
   "source": [
    "# Fetch news for each game and store in a dictionary\n",
    "all_news = {}\n",
    "\n",
    "for game, appid in games.items():\n",
    "    print(f\"Fetching news for {game}...\")\n",
    "    news_items = fetch_news_for_app(appid)\n",
    "    all_news[game] = news_items\n",
    "    print(f\"Fetched {len(news_items)} news items for {game}.\")\n",
    "\n",
    "    # Print a sample of the news items for verification\n",
    "    for item in news_items[:3]:  # Adjust the slice to see more or fewer items\n",
    "        print(f\"Title: {item['title']}\\nDate: {item['date']}\\nURL: {item['url']}\\nContents: {item['contents']}\\n\")\n"
   ]
  },
  {
   "cell_type": "code",
   "execution_count": null,
   "id": "c70bb8ca-1d65-43af-9c1b-e4a8ffa2ce28",
   "metadata": {},
   "outputs": [],
   "source": []
  }
 ],
 "metadata": {
  "kernelspec": {
   "display_name": "Python 3 (ipykernel)",
   "language": "python",
   "name": "python3"
  },
  "language_info": {
   "codemirror_mode": {
    "name": "ipython",
    "version": 3
   },
   "file_extension": ".py",
   "mimetype": "text/x-python",
   "name": "python",
   "nbconvert_exporter": "python",
   "pygments_lexer": "ipython3",
   "version": "3.10.14"
  }
 },
 "nbformat": 4,
 "nbformat_minor": 5
}
