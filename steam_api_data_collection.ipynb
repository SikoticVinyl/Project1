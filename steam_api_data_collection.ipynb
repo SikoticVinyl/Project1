{
 "cells": [
  {
   "cell_type": "code",
   "execution_count": 1,
   "id": "9f8a940a-ff6c-4f00-9caa-7e780844fde9",
   "metadata": {},
   "outputs": [
    {
     "data": {
      "text/plain": [
       "True"
      ]
     },
     "execution_count": 1,
     "metadata": {},
     "output_type": "execute_result"
    }
   ],
   "source": [
    "import os\n",
    "import requests\n",
    "import pandas as pd\n",
    "from dotenv import load_dotenv\n",
    "\n",
    "# Loading environment variables from .env file\n",
    "load_dotenv()"
   ]
  },
  {
   "cell_type": "code",
   "execution_count": 2,
   "id": "fc658714-b3cc-4075-9532-789c3daa3dd0",
   "metadata": {},
   "outputs": [],
   "source": [
    "# Getting the Steam API key from the environment variable\n",
    "api_key = os.getenv('STEAM_API_KEY')\n",
    "base_url = 'https://api.steampowered.com/ISteamUserStats/GetNumberOfCurrentPlayers/v1/'\n"
   ]
  },
  {
   "cell_type": "code",
   "execution_count": 3,
   "id": "5c982762-22e6-40e5-980e-fb2d7153610a",
   "metadata": {},
   "outputs": [],
   "source": []
  },
  {
   "cell_type": "code",
   "execution_count": 4,
   "id": "bdeeffab-5298-48f5-baa9-201782aff814",
   "metadata": {},
   "outputs": [
    {
     "data": {
      "text/plain": [
       "{'The Isle': 3234, 'ARK: Survival Evolved': 19090, \"No Man's Sky\": 27509}"
      ]
     },
     "execution_count": 4,
     "metadata": {},
     "output_type": "execute_result"
    }
   ],
   "source": [
    "# Define the app IDs for the games you are interested in\n",
    "games = {\n",
    "    'The Isle': 376210,\n",
    "    'ARK: Survival Evolved': 346110,\n",
    "    'No Man\\'s Sky': 275850\n",
    "}"
   ]
  },
  {
   "cell_type": "code",
   "execution_count": 7,
   "id": "0b46deab-e5b5-4c0f-9390-b61d78b8a10e",
   "metadata": {},
   "outputs": [],
   "source": []
  },
  {
   "cell_type": "code",
   "execution_count": 8,
   "id": "d816f7db-76ee-4db6-a2fd-0c1e07c0a5fb",
   "metadata": {},
   "outputs": [
    {
     "name": "stdout",
     "output_type": "stream",
     "text": [
      "Response for appid 376210: {'response': {'result': 8, 'error': \"Stat 'player_count' not found\"}}\n",
      "Response for appid 346110: {'response': {'result': 8, 'error': \"Stat 'player_count' not found\"}}\n",
      "Response for appid 275850: {'response': {'result': 8, 'error': \"Stat 'player_count' not found\"}}\n",
      "The Isle: 8\n",
      "ARK: Survival Evolved: 8\n",
      "No Man's Sky: 8\n"
     ]
    }
   ],
   "source": []
  },
  {
   "cell_type": "code",
   "execution_count": 10,
   "id": "8fd2d5ed-1dab-40b2-b298-4e44f3d8710b",
   "metadata": {},
   "outputs": [],
   "source": []
  },
  {
   "cell_type": "code",
   "execution_count": 13,
   "id": "caf3c0e8-f497-49bf-9a29-10d66c8da5a6",
   "metadata": {},
   "outputs": [
    {
     "name": "stdout",
     "output_type": "stream",
     "text": [
      "Available stats for appid 376210: {'achievementpercentages': {'achievements': []}}\n",
      "Available stats for The Isle: {'achievementpercentages': {'achievements': []}}\n",
      "Available stats for appid 346110: {'achievementpercentages': {'achievements': [{'name': 'ACHIEVEMENT_8', 'percent': 56.099998474121094}, {'name': 'ACHIEVEMENT_9', 'percent': 54.20000076293945}, {'name': 'ACHIEVEMENT_10', 'percent': 52.70000076293945}, {'name': 'ACHIEVEMENT_13', 'percent': 29.200000762939453}, {'name': 'ACHIEVEMENT_11', 'percent': 17.899999618530273}, {'name': 'ACHIEVEMENT_12', 'percent': 16.899999618530273}, {'name': 'ACHIEVEMENT_14', 'percent': 16.600000381469727}, {'name': 'ACHIEVEMENT_15', 'percent': 15.699999809265137}, {'name': 'ACHIEVEMENT_17', 'percent': 13.399999618530273}, {'name': 'ACHIEVEMENT_22', 'percent': 11.300000190734863}, {'name': 'ACHIEVEMENT_5', 'percent': 11}, {'name': 'ACHIEVEMENT_2', 'percent': 10.600000381469727}, {'name': 'ACHIEVEMENT_6', 'percent': 10.100000381469727}, {'name': 'ACHIEVEMENT_7', 'percent': 8.699999809265137}, {'name': 'ACHIEVEMENT_16', 'percent': 8.300000190734863}, {'name': 'ACHIEVEMENT_23', 'percent': 6.900000095367432}, {'name': 'ACHIEVEMENT_21', 'percent': 5.800000190734863}, {'name': 'ACHIEVEMENT_18', 'percent': 5.400000095367432}, {'name': 'ACHIEVEMENT_24', 'percent': 5.300000190734863}, {'name': 'ACHIEVEMENT_19', 'percent': 4.900000095367432}, {'name': 'ACHIEVEMENT_25', 'percent': 4.800000190734863}, {'name': 'NEW_ACHIEVEMENT_4', 'percent': 4.699999809265137}, {'name': 'ACHIEVEMENT_26', 'percent': 4.5}, {'name': 'ACHIEVEMENT_27', 'percent': 4.400000095367432}, {'name': 'ACHIEVEMENT_1', 'percent': 4.400000095367432}, {'name': 'ACHIEVEMENT_30', 'percent': 4.300000190734863}, {'name': 'ACHIEVEMENT_29', 'percent': 4.300000190734863}, {'name': 'ACHIEVEMENT_28', 'percent': 4.300000190734863}, {'name': 'ACHIEVEMENT_33', 'percent': 4.199999809265137}, {'name': 'ACHIEVEMENT_31', 'percent': 4.099999904632568}, {'name': 'ACHIEVEMENT_20', 'percent': 3.9000000953674316}, {'name': 'ACHIEVEMENT_32', 'percent': 3.200000047683716}]}}\n",
      "Available stats for ARK: Survival Evolved: {'achievementpercentages': {'achievements': [{'name': 'ACHIEVEMENT_8', 'percent': 56.099998474121094}, {'name': 'ACHIEVEMENT_9', 'percent': 54.20000076293945}, {'name': 'ACHIEVEMENT_10', 'percent': 52.70000076293945}, {'name': 'ACHIEVEMENT_13', 'percent': 29.200000762939453}, {'name': 'ACHIEVEMENT_11', 'percent': 17.899999618530273}, {'name': 'ACHIEVEMENT_12', 'percent': 16.899999618530273}, {'name': 'ACHIEVEMENT_14', 'percent': 16.600000381469727}, {'name': 'ACHIEVEMENT_15', 'percent': 15.699999809265137}, {'name': 'ACHIEVEMENT_17', 'percent': 13.399999618530273}, {'name': 'ACHIEVEMENT_22', 'percent': 11.300000190734863}, {'name': 'ACHIEVEMENT_5', 'percent': 11}, {'name': 'ACHIEVEMENT_2', 'percent': 10.600000381469727}, {'name': 'ACHIEVEMENT_6', 'percent': 10.100000381469727}, {'name': 'ACHIEVEMENT_7', 'percent': 8.699999809265137}, {'name': 'ACHIEVEMENT_16', 'percent': 8.300000190734863}, {'name': 'ACHIEVEMENT_23', 'percent': 6.900000095367432}, {'name': 'ACHIEVEMENT_21', 'percent': 5.800000190734863}, {'name': 'ACHIEVEMENT_18', 'percent': 5.400000095367432}, {'name': 'ACHIEVEMENT_24', 'percent': 5.300000190734863}, {'name': 'ACHIEVEMENT_19', 'percent': 4.900000095367432}, {'name': 'ACHIEVEMENT_25', 'percent': 4.800000190734863}, {'name': 'NEW_ACHIEVEMENT_4', 'percent': 4.699999809265137}, {'name': 'ACHIEVEMENT_26', 'percent': 4.5}, {'name': 'ACHIEVEMENT_27', 'percent': 4.400000095367432}, {'name': 'ACHIEVEMENT_1', 'percent': 4.400000095367432}, {'name': 'ACHIEVEMENT_30', 'percent': 4.300000190734863}, {'name': 'ACHIEVEMENT_29', 'percent': 4.300000190734863}, {'name': 'ACHIEVEMENT_28', 'percent': 4.300000190734863}, {'name': 'ACHIEVEMENT_33', 'percent': 4.199999809265137}, {'name': 'ACHIEVEMENT_31', 'percent': 4.099999904632568}, {'name': 'ACHIEVEMENT_20', 'percent': 3.9000000953674316}, {'name': 'ACHIEVEMENT_32', 'percent': 3.200000047683716}]}}\n",
      "Available stats for appid 275850: {'achievementpercentages': {'achievements': [{'name': 'CRADLE', 'percent': 72.5999984741211}, {'name': 'LIMITEDFUNDS', 'percent': 62.599998474121094}, {'name': 'CONFUSED', 'percent': 57.20000076293945}, {'name': 'TAXONOMIST', 'percent': 56.70000076293945}, {'name': 'THUG', 'percent': 52.5}, {'name': 'SPACETRUCKER', 'percent': 51.20000076293945}, {'name': 'PIONEER2', 'percent': 49.70000076293945}, {'name': 'SHIPPINGMAGNATE', 'percent': 46.79999923706055}, {'name': 'TRAILBLAZER', 'percent': 45.20000076293945}, {'name': 'ALMOSTTHERE', 'percent': 36.79999923706055}, {'name': 'ARCHIVIST', 'percent': 33.099998474121094}, {'name': 'THEEVERLASTING', 'percent': 31.799999237060547}, {'name': 'NAVIGATORS', 'percent': 29.299999237060547}, {'name': 'WARCRIME', 'percent': 28.399999618530273}, {'name': 'ATTENBORG', 'percent': 23.600000381469727}, {'name': 'GENOCIDAL', 'percent': 21.5}, {'name': 'PIONEER', 'percent': 19.799999237060547}, {'name': 'BABELFISH', 'percent': 18.700000762939453}, {'name': 'REUNION', 'percent': 15.300000190734863}, {'name': 'NATURALIST', 'percent': 13}, {'name': 'DISCOVERER', 'percent': 12}, {'name': 'GETTINGON', 'percent': 3.5}, {'name': 'CLASSIFIER', 'percent': 3.4000000953674316}, {'name': 'ENCYCLOPAEDIA', 'percent': 2.700000047683716}, {'name': 'METHUSELAH', 'percent': 2}, {'name': 'TAKEADEEPBREATH', 'percent': 1.2999999523162842}, {'name': 'TOLIVEFOREVER', 'percent': 0.699999988079071}]}}\n",
      "Available stats for No Man's Sky: {'achievementpercentages': {'achievements': [{'name': 'CRADLE', 'percent': 72.5999984741211}, {'name': 'LIMITEDFUNDS', 'percent': 62.599998474121094}, {'name': 'CONFUSED', 'percent': 57.20000076293945}, {'name': 'TAXONOMIST', 'percent': 56.70000076293945}, {'name': 'THUG', 'percent': 52.5}, {'name': 'SPACETRUCKER', 'percent': 51.20000076293945}, {'name': 'PIONEER2', 'percent': 49.70000076293945}, {'name': 'SHIPPINGMAGNATE', 'percent': 46.79999923706055}, {'name': 'TRAILBLAZER', 'percent': 45.20000076293945}, {'name': 'ALMOSTTHERE', 'percent': 36.79999923706055}, {'name': 'ARCHIVIST', 'percent': 33.099998474121094}, {'name': 'THEEVERLASTING', 'percent': 31.799999237060547}, {'name': 'NAVIGATORS', 'percent': 29.299999237060547}, {'name': 'WARCRIME', 'percent': 28.399999618530273}, {'name': 'ATTENBORG', 'percent': 23.600000381469727}, {'name': 'GENOCIDAL', 'percent': 21.5}, {'name': 'PIONEER', 'percent': 19.799999237060547}, {'name': 'BABELFISH', 'percent': 18.700000762939453}, {'name': 'REUNION', 'percent': 15.300000190734863}, {'name': 'NATURALIST', 'percent': 13}, {'name': 'DISCOVERER', 'percent': 12}, {'name': 'GETTINGON', 'percent': 3.5}, {'name': 'CLASSIFIER', 'percent': 3.4000000953674316}, {'name': 'ENCYCLOPAEDIA', 'percent': 2.700000047683716}, {'name': 'METHUSELAH', 'percent': 2}, {'name': 'TAKEADEEPBREATH', 'percent': 1.2999999523162842}, {'name': 'TOLIVEFOREVER', 'percent': 0.699999988079071}]}}\n"
     ]
    }
   ],
   "source": []
  },
  {
   "cell_type": "code",
   "execution_count": null,
   "id": "c70bb8ca-1d65-43af-9c1b-e4a8ffa2ce28",
   "metadata": {},
   "outputs": [],
   "source": []
  }
 ],
 "metadata": {
  "kernelspec": {
   "display_name": "Python 3 (ipykernel)",
   "language": "python",
   "name": "python3"
  },
  "language_info": {
   "codemirror_mode": {
    "name": "ipython",
    "version": 3
   },
   "file_extension": ".py",
   "mimetype": "text/x-python",
   "name": "python",
   "nbconvert_exporter": "python",
   "pygments_lexer": "ipython3",
   "version": "3.10.14"
  }
 },
 "nbformat": 4,
 "nbformat_minor": 5
}
